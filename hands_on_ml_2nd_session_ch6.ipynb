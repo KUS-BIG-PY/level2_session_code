{
  "nbformat": 4,
  "nbformat_minor": 0,
  "metadata": {
    "colab": {
      "name": "hands_on_ml_2nd_session_ch6.ipynb",
      "provenance": [],
      "authorship_tag": "ABX9TyOshxIqi0sbUKm9/LmYkK3N",
      "include_colab_link": true
    },
    "kernelspec": {
      "name": "python3",
      "display_name": "Python 3"
    },
    "language_info": {
      "name": "python"
    }
  },
  "cells": [
    {
      "cell_type": "markdown",
      "metadata": {
        "id": "view-in-github",
        "colab_type": "text"
      },
      "source": [
        "<a href=\"https://colab.research.google.com/github/KUS-BIG-PY/level2_session_code/blob/main/hands_on_ml_2nd_session_ch6.ipynb\" target=\"_parent\"><img src=\"https://colab.research.google.com/assets/colab-badge.svg\" alt=\"Open In Colab\"/></a>"
      ]
    },
    {
      "cell_type": "code",
      "execution_count": null,
      "metadata": {
        "id": "ASs1Jh2w7twh"
      },
      "outputs": [],
      "source": [
        "# "
      ]
    }
  ]
}